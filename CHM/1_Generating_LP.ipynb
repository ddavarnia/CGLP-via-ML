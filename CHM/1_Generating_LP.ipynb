{
 "cells": [
  {
   "cell_type": "markdown",
   "metadata": {},
   "source": [
    "# Defining the parameters:"
   ]
  },
  {
   "cell_type": "code",
   "execution_count": null,
   "metadata": {},
   "outputs": [],
   "source": [
    "# Folder to save the example\n",
    "example_location = \"data/NewExample1.lp\"\n",
    "# number of constraints\n",
    "m=5\n",
    "# number of variables\n",
    "n=5"
   ]
  },
  {
   "cell_type": "markdown",
   "metadata": {},
   "source": [
    "# Loading the libraries"
   ]
  },
  {
   "cell_type": "code",
   "execution_count": null,
   "metadata": {},
   "outputs": [],
   "source": [
    "import numpy as np\n",
    "from random import randint\n",
    "from math import floor, fabs\n",
    "from cplex.callbacks import UserCutCallback\n",
    "import cplex  as CPX\n",
    "import cplex.callbacks as CPX_CB"
   ]
  },
  {
   "cell_type": "markdown",
   "metadata": {},
   "source": [
    "# Crearting the example"
   ]
  },
  {
   "cell_type": "code",
   "execution_count": null,
   "metadata": {
    "scrolled": false
   },
   "outputs": [],
   "source": [
    "my_obj=[]\n",
    "my_ub=[]\n",
    "my_lb=[]\n",
    "my_colnames=[]\n",
    "my_vtype =\"\"\n",
    "my_rhs=[]\n",
    "my_rownames=[]\n",
    "my_coef=[] \n",
    "rows=[]\n",
    "my_sense=\"\"\n",
    "UnitMatrix=[]\n",
    "for i in range (n):\n",
    "    tmp=[]\n",
    "    for j in range (n):\n",
    "        if i==j:\n",
    "            tmp.append(-1)\n",
    "        else:\n",
    "            tmp.append(0)\n",
    "    UnitMatrix.append(tmp)  \n",
    "for i in range(n):\n",
    "    my_obj.append(randint(-100,100))\n",
    "    my_lb.append(0)\n",
    "    my_colnames.append(\"x\"+str(i))\n",
    "    my_vtype=my_vtype+'C' \n",
    "\n",
    "for i in range(m):\n",
    "#     my_rhs.append(randint(1,10))\n",
    "    my_rownames.append(\"c\"+str(i))\n",
    "    my_row=[]\n",
    "    for j in range(n):\n",
    "        my_row.append(randint(-100,100))\n",
    "    my_coef.append(my_row)\n",
    "    rows.append([range(n),my_coef[i]])  \n",
    "\n",
    "    my_sense=my_sense+'L' \n",
    "    \n",
    "def populatebyrow(c):\n",
    "    c.objective.set_sense(c.objective.sense.maximize)\n",
    "    c.variables.add(obj = my_obj,lb=my_lb, names = my_colnames)\n",
    "    c.linear_constraints.add(lin_expr = rows, senses = my_sense,\n",
    "                                rhs = my_rhs, names = my_rownames)\n",
    "\n",
    "\n",
    "c = CPX.Cplex()\n",
    "populatebyrow(c)\n",
    "\n",
    "c.write(example_location)\n",
    "c.solve()\n",
    "solution = c.solution\n",
    "\n",
    "print c.solution.status[solution.get_status()]\n",
    "print \"Objective value = \" , c.solution.get_objective_value()\n",
    "print\n",
    "x = c.solution.get_values(0, c.variables.get_num()-1)\n",
    "for j in range(c.variables.get_num()):\n",
    "    if fabs(x[j]) > 1.0e-10:\n",
    "        print \"Column %d: Value = %17.10g\" % (j, x[j])\n",
    "\n",
    "\n"
   ]
  }
 ],
 "metadata": {
  "kernelspec": {
   "display_name": "Python 2",
   "language": "python",
   "name": "python2"
  },
  "language_info": {
   "codemirror_mode": {
    "name": "ipython",
    "version": 2
   },
   "file_extension": ".py",
   "mimetype": "text/x-python",
   "name": "python",
   "nbconvert_exporter": "python",
   "pygments_lexer": "ipython2",
   "version": "2.7.15"
  }
 },
 "nbformat": 4,
 "nbformat_minor": 2
}
