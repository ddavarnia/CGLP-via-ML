{
 "cells": [
  {
   "cell_type": "markdown",
   "metadata": {},
   "source": [
    "# Building train data:"
   ]
  },
  {
   "cell_type": "code",
   "execution_count": 1,
   "metadata": {},
   "outputs": [],
   "source": [
    "import numpy as np\n",
    "from random import randint\n",
    "from math import floor, fabs\n",
    "from cplex.callbacks import UserCutCallback\n",
    "import cplex  as CPX\n",
    "import cplex.callbacks as CPX_CB\n",
    "import sys\n",
    "import time\n",
    "import pandas as pd\n",
    "from itertools import product\n",
    "import random\n",
    "from sklearn import preprocessing\n",
    "import copy"
   ]
  },
  {
   "cell_type": "markdown",
   "metadata": {},
   "source": [
    "# Parameters:"
   ]
  },
  {
   "cell_type": "code",
   "execution_count": 2,
   "metadata": {},
   "outputs": [],
   "source": [
    "examples=['data/NewExample1','data/NewExample1Redundant0.1','data/NewExample1Redundant0.25','data/NewExample1Redundant0.5']\n",
    "# eps for class one\n",
    "eps_one=0.001\n",
    "# eps for class zero\n",
    "eps_zero=0.001\n",
    "# number of loop for generating class zero\n",
    "LoopForZeros=[2]"
   ]
  },
  {
   "cell_type": "markdown",
   "metadata": {},
   "source": [
    "# Building and saving the train data:"
   ]
  },
  {
   "cell_type": "code",
   "execution_count": 3,
   "metadata": {
    "scrolled": false
   },
   "outputs": [],
   "source": [
    "for LoopForZero in LoopForZeros:\n",
    "    for example in examples:\n",
    "        c = CPX.Cplex(example+'.lp')\n",
    "        m=c.linear_constraints.get_num()\n",
    "        n=c.variables.get_num()\n",
    "        FinalCoeff=[]\n",
    "        for i in range(m):\n",
    "            my_row=[]\n",
    "            for j in range(n):\n",
    "                my_row.append(c.linear_constraints.get_coefficients(i,j))\n",
    "            FinalCoeff.append(my_row) \n",
    "        FinalBounds=[]\n",
    "        for i in range (n):\n",
    "            tmp=[]\n",
    "            for j in range (n):\n",
    "                if i==j:\n",
    "                    tmp.append(-1)\n",
    "                else:\n",
    "                    tmp.append(0)\n",
    "            FinalBounds.append(tmp) \n",
    "\n",
    "        dfColumnName=[]  \n",
    "        for i in range (n):\n",
    "            dfColumnName.append(\"Var\"+str(i))  \n",
    "        dfColumnName.append(\"Output\")           \n",
    "        ######Train Data   \n",
    "        trainingStartTime=time.time()\n",
    "        FinalData=np.array([]).reshape(0, n+1)\n",
    "        lenFinalCoeff=len(FinalCoeff)\n",
    "\n",
    "\n",
    "        ##regular const class one with rand\n",
    "        newrow=np.array(FinalCoeff)*-1\n",
    "        normalized=preprocessing.normalize(newrow, axis=1, norm='l2')\n",
    "        normalized = np.append(normalized,np.ones([len(normalized),1]),1)\n",
    "        FinalData=np.append(FinalData,normalized, axis=0)\n",
    "        for k in range (LoopForZero-1):\n",
    "            #regular const class one with ones vector\n",
    "            OnesVector=np.ones((lenFinalCoeff,n))\n",
    "            newrow=np.array(FinalCoeff)+OnesVector*eps_one\n",
    "            normalized=preprocessing.normalize(newrow, axis=1, norm='l2')\n",
    "            normalized = np.append(normalized,np.ones([len(normalized),1]),1)\n",
    "            FinalData=np.append(FinalData,normalized, axis=0)\n",
    "\n",
    "        ##regular const class zero with rand\n",
    "        for k in range (LoopForZero):\n",
    "            PosRandNum=np.random.uniform(1,10000,(lenFinalCoeff,n)) \n",
    "            newrow=np.array(FinalCoeff)-PosRandNum*eps_zero\n",
    "            normalized=preprocessing.normalize(newrow, axis=1, norm='l2')\n",
    "            normalized = np.append(normalized,np.zeros([len(normalized),1]),1)\n",
    "            FinalData=np.append(FinalData,normalized, axis=0)\n",
    "\n",
    "\n",
    "        #bound constraint class one\n",
    "        newrow=np.array(FinalBounds)*-1 \n",
    "        newrow = np.append(newrow,np.ones([len(newrow),1]),1)\n",
    "        FinalData=np.append(FinalData,newrow, axis=0)\n",
    "\n",
    "        #bound constraint class one with ones vector\n",
    "        for k in range (LoopForZero-1):\n",
    "            OnesVector=np.ones((len(FinalBounds),n))\n",
    "            newrow=np.array(FinalBounds)+OnesVector*eps_one \n",
    "            normalized=preprocessing.normalize(newrow, axis=1, norm='l2')\n",
    "            normalized = np.append(normalized,np.ones([len(normalized),1]),1)\n",
    "            FinalData=np.append(FinalData,normalized, axis=0)        \n",
    "\n",
    "        #bound constraint class zero with rand \n",
    "        for k in range (LoopForZero):\n",
    "            PosRandNum=np.random.uniform(1,10000,(len(FinalBounds),n)) \n",
    "            newrow=np.array(FinalBounds)-PosRandNum*eps_zero\n",
    "            normalized=preprocessing.normalize(newrow, axis=1, norm='l2')\n",
    "            normalized = np.append(normalized,np.zeros([len(normalized),1]),1)\n",
    "            FinalData=np.append(FinalData,normalized, axis=0)\n",
    "\n",
    "        df = pd.DataFrame(data=FinalData, columns=[dfColumnName])\n",
    "        df.to_csv(example+'train.csv')      "
   ]
  }
 ],
 "metadata": {
  "kernelspec": {
   "display_name": "Python 2",
   "language": "python",
   "name": "python2"
  },
  "language_info": {
   "codemirror_mode": {
    "name": "ipython",
    "version": 2
   },
   "file_extension": ".py",
   "mimetype": "text/x-python",
   "name": "python",
   "nbconvert_exporter": "python",
   "pygments_lexer": "ipython2",
   "version": "2.7.15"
  }
 },
 "nbformat": 4,
 "nbformat_minor": 2
}
