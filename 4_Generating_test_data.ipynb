{
 "cells": [
  {
   "cell_type": "markdown",
   "metadata": {},
   "source": [
    "# Creating test data"
   ]
  },
  {
   "cell_type": "code",
   "execution_count": null,
   "metadata": {},
   "outputs": [],
   "source": [
    "import numpy as np\n",
    "from random import randint\n",
    "from math import floor, fabs\n",
    "from cplex.callbacks import UserCutCallback\n",
    "import cplex  as CPX\n",
    "import cplex.callbacks as CPX_CB\n",
    "import sys\n",
    "import time\n",
    "import pandas as pd\n",
    "from itertools import product\n",
    "import random\n",
    "from sklearn import preprocessing\n",
    "import copy"
   ]
  },
  {
   "cell_type": "markdown",
   "metadata": {},
   "source": [
    "# Parameters"
   ]
  },
  {
   "cell_type": "code",
   "execution_count": null,
   "metadata": {},
   "outputs": [],
   "source": [
    "examples=['data/NewExample1','data/NewExample1Redundant0.1','data/NewExample1Redundant0.25','data/NewExample1Redundant0.5']\n",
    "#The probability of having zero coefficient in linear combination for the test set:\n",
    "ZeroProb=[0.0]"
   ]
  },
  {
   "cell_type": "markdown",
   "metadata": {},
   "source": [
    "# Creating and saving the test data:"
   ]
  },
  {
   "cell_type": "code",
   "execution_count": null,
   "metadata": {
    "scrolled": false
   },
   "outputs": [],
   "source": [
    "for example in examples:\n",
    "    for Z in ZeroProb:\n",
    "\n",
    "        c = CPX.Cplex(example+'.lp')\n",
    "        m=c.linear_constraints.get_num()\n",
    "        n=c.variables.get_num()\n",
    "        FinalCoeff=[]\n",
    "        for i in range(m):\n",
    "            my_row=[]\n",
    "            for j in range(n):\n",
    "                my_row.append(c.linear_constraints.get_coefficients(i,j))\n",
    "            FinalCoeff.append(my_row) \n",
    "        FinalBounds=[]\n",
    "        for i in range (n):\n",
    "            tmp=[]\n",
    "            for j in range (n):\n",
    "                if i==j:\n",
    "                    tmp.append(-1)\n",
    "                else:\n",
    "                    tmp.append(0)\n",
    "            FinalBounds.append(tmp) \n",
    "\n",
    "        dfColumnName=[]  \n",
    "        for i in range (n):\n",
    "            dfColumnName.append(\"Var\"+str(i))  \n",
    "        dfColumnName.append(\"Output\")            \n",
    "\n",
    "        my_list = [Z] \n",
    "        another_list = [(1-Z)/100] *100\n",
    "        my_list.extend(another_list) \n",
    "\n",
    "        TotalTime=0\n",
    "        dfTest = np.empty((0,n+1))\n",
    "        LenTestData=m+n/2\n",
    "\n",
    "        for j in range(LenTestData):    \n",
    "            testModel = CPX.Cplex(example+'.lp')\n",
    "            obj= np.random.randint(-100, 100, n)\n",
    "            for t in range(n):    \n",
    "                testModel.objective.set_linear(t,obj[t])\n",
    "            testModel.parameters.simplex.display.set(0)\n",
    "            startTime=time.time()\n",
    "            testModel.solve()\n",
    "            TotalTime=TotalTime+time.time()-startTime\n",
    "            normalized=obj/np.linalg.norm(obj)\n",
    "            if testModel.solution.get_status()!=4:\n",
    "                if testModel.solution.get_objective_value()>=0.00000000000001:\n",
    "                    normalized = np.append(normalized,1)\n",
    "                    dfTest=np.append(dfTest,np.array([normalized]), axis=0)\n",
    "                else:\n",
    "                    normalized = np.append(normalized,0)\n",
    "                    dfTest=np.append(dfTest,np.array([normalized]), axis=0)\n",
    "            else:\n",
    "                normalized = np.append(normalized,1)\n",
    "                dfTest=np.append(dfTest,np.array([normalized]), axis=0)\n",
    "\n",
    "        for j in range(LenTestData):\n",
    "\n",
    "            testModel = CPX.Cplex(example+'.lp')\n",
    "            obj=np.zeros((1,n))\n",
    "            for i in range (len(FinalCoeff)):\n",
    "                alpha=np.random.choice(np.arange(0, 101), p=my_list)\n",
    "                newrow=np.array(FinalCoeff[i])*alpha\n",
    "                obj=np.add(obj,newrow)\n",
    "\n",
    "            for t in range(n):    \n",
    "                testModel.objective.set_linear(t,obj[0][t])\n",
    "            testModel.parameters.simplex.display.set(0)\n",
    "            startTime=time.time()\n",
    "            testModel.solve()\n",
    "            TotalTime=TotalTime+time.time()-startTime\n",
    "            normalized=obj/np.linalg.norm(obj)\n",
    "            if testModel.solution.get_status()!=4:\n",
    "                if testModel.solution.get_objective_value()>=0.00000000000001:\n",
    "                    normalized = np.append(normalized,1)\n",
    "                    dfTest=np.append(dfTest,np.array([normalized]), axis=0)\n",
    "                else:\n",
    "                    normalized = np.append(normalized,0)\n",
    "                    dfTest=np.append(dfTest,np.array([normalized]), axis=0)\n",
    "            else:\n",
    "                normalized = np.append(normalized,1)\n",
    "                dfTest=np.append(dfTest,np.array([normalized]), axis=0)   \n",
    "        Final=TotalTime/len(dfTest)\n",
    "        dfFinalTest = pd.DataFrame(data=dfTest, columns=[dfColumnName])\n",
    "        dfFinalTest.to_csv(r''+example+'test'+'.csv')     "
   ]
  }
 ],
 "metadata": {
  "kernelspec": {
   "display_name": "Python 2",
   "language": "python",
   "name": "python2"
  },
  "language_info": {
   "codemirror_mode": {
    "name": "ipython",
    "version": 2
   },
   "file_extension": ".py",
   "mimetype": "text/x-python",
   "name": "python",
   "nbconvert_exporter": "python",
   "pygments_lexer": "ipython2",
   "version": "2.7.15"
  }
 },
 "nbformat": 4,
 "nbformat_minor": 2
}
