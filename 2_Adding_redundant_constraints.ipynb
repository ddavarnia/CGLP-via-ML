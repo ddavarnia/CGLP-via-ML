{
 "cells": [
  {
   "cell_type": "markdown",
   "metadata": {},
   "source": [
    "# Adding redundant constraints:"
   ]
  },
  {
   "cell_type": "code",
   "execution_count": null,
   "metadata": {},
   "outputs": [],
   "source": [
    "import numpy as np\n",
    "import random \n",
    "from random import randint\n",
    "import math  \n",
    "from cplex.callbacks import UserCutCallback\n",
    "import cplex  as CPX\n",
    "import cplex.callbacks as CPX_CB\n",
    "import sys\n",
    "import time\n",
    "from numpy.linalg import matrix_rank\n",
    "import pandas as pd"
   ]
  },
  {
   "cell_type": "markdown",
   "metadata": {},
   "source": [
    "# Defining the parameters:"
   ]
  },
  {
   "cell_type": "code",
   "execution_count": null,
   "metadata": {},
   "outputs": [],
   "source": [
    "# example location\n",
    "examples=['data/NewExample1']\n",
    "# percentage of adding reduntant constraints:\n",
    "RedundantPer=[0.1,0.25,0.5]"
   ]
  },
  {
   "cell_type": "markdown",
   "metadata": {},
   "source": [
    "# Adding redundant contraints:"
   ]
  },
  {
   "cell_type": "code",
   "execution_count": null,
   "metadata": {
    "scrolled": false
   },
   "outputs": [],
   "source": [
    "for example in examples:\n",
    "    for k in RedundantPer:          \n",
    "        NonNegativeRed=1\n",
    "        c = CPX.Cplex(example+'.lp')\n",
    "        m=c.linear_constraints.get_num()\n",
    "        n=c.variables.get_num()\n",
    "        my_coef=[]\n",
    "        for i in range(m):\n",
    "            my_row=[]\n",
    "            for j in range(n):\n",
    "                my_row.append(c.linear_constraints.get_coefficients(i,j))\n",
    "            my_coef.append(my_row)\n",
    "\n",
    "        for i in range (n):\n",
    "            tmp=[]\n",
    "            for j in range (n):\n",
    "                if i==j:\n",
    "                    tmp.append(-1)\n",
    "                else:\n",
    "                    tmp.append(0)\n",
    "            my_coef.append(tmp) \n",
    "        FinalCoeff=my_coef[:] \n",
    "\n",
    "        NumNewConst=math.floor(k*len (my_coef))\n",
    "        for j in range (int(NumNewConst)):  \n",
    "            new_cons=np.zeros((1,n))\n",
    "            for i in range (len(my_coef)):\n",
    "                NonNeg=random.uniform(0, NonNegativeRed) \n",
    "                newrow=np.array(my_coef[i])*NonNeg\n",
    "                new_cons=np.add(new_cons,newrow)   \n",
    "            new_cons=list((new_cons)[0])\n",
    "            sumline=[]\n",
    "            sumline.append([range(n),new_cons])    \n",
    "            c.linear_constraints.add(lin_expr = sumline, senses =  \"L\",\n",
    "                                    rhs = [0], names=([\"c\"+str(m+j)]))\n",
    "        c.write(example+'Redundant'+str(k)+'.lp')    "
   ]
  }
 ],
 "metadata": {
  "kernelspec": {
   "display_name": "Python 2",
   "language": "python",
   "name": "python2"
  },
  "language_info": {
   "codemirror_mode": {
    "name": "ipython",
    "version": 2
   },
   "file_extension": ".py",
   "mimetype": "text/x-python",
   "name": "python",
   "nbconvert_exporter": "python",
   "pygments_lexer": "ipython2",
   "version": "2.7.15"
  }
 },
 "nbformat": 4,
 "nbformat_minor": 2
}
